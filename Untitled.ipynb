{
 "cells": [
  {
   "cell_type": "code",
   "execution_count": 1,
   "id": "b7b986b5",
   "metadata": {},
   "outputs": [],
   "source": [
    "from apscheduler.schedulers.background import BlockingScheduler\n",
    "from utils.event import EventEngine, Event\n",
    "from utils.brokers import Broker\n",
    "from gateway.binance_http import Interval\n",
    "from constant.constant import EVENT_KLINE, EVENT_POS, EVENT_OPEN_ORDERS\n",
    "import pandas as pd\n",
    "from strategies.boll_macd_strategy import BollMacdStrategy\n",
    "import pandas_ta as ta\n",
    "import numpy as np\n",
    "import logging\n",
    "from pandas_ta.utils import get_offset, verify_series\n",
    "from decimal import Decimal\n",
    "from datetime import datetime, timedelta\n",
    "from transitions import Machine\n",
    "from technical.indicators import SSLChannels\n",
    "from gateway.binance_http import BinanceFutureHttp\n",
    "from enum import Enum"
   ]
  },
  {
   "cell_type": "code",
   "execution_count": null,
   "id": "df54cf8e",
   "metadata": {},
   "outputs": [],
   "source": []
  },
  {
   "cell_type": "code",
   "execution_count": 2,
   "id": "e5d646bd",
   "metadata": {},
   "outputs": [
    {
     "ename": "NameError",
     "evalue": "name 'OrderType' is not defined",
     "output_type": "error",
     "traceback": [
      "\u001b[0;31m---------------------------------------------------------------------------\u001b[0m",
      "\u001b[0;31mNameError\u001b[0m                                 Traceback (most recent call last)",
      "\u001b[0;32m<ipython-input-2-2ec6a654272b>\u001b[0m in \u001b[0;36m<module>\u001b[0;34m\u001b[0m\n\u001b[1;32m      3\u001b[0m \u001b[0mkey\u001b[0m \u001b[0;34m=\u001b[0m \u001b[0;34m\"BIFqNMU6JgQIFVz0z038MOgkzREqUeQASS01Zbn2qggB5l1skGCASN4WB8gsV8UL\"\u001b[0m\u001b[0;34m\u001b[0m\u001b[0;34m\u001b[0m\u001b[0m\n\u001b[1;32m      4\u001b[0m \u001b[0msecret\u001b[0m \u001b[0;34m=\u001b[0m \u001b[0;34m'CU8VwvId3C93oqyYTmDQGhtfTaAs4hOnG6Dwp2uSqsx2i2fe9eWwvKpYVPVsiur1'\u001b[0m\u001b[0;34m\u001b[0m\u001b[0;34m\u001b[0m\u001b[0m\n\u001b[0;32m----> 5\u001b[0;31m \u001b[0;32mdef\u001b[0m \u001b[0msend_order\u001b[0m\u001b[0;34m(\u001b[0m\u001b[0mside\u001b[0m\u001b[0;34m:\u001b[0m \u001b[0mOrderSide\u001b[0m\u001b[0;34m,\u001b[0m \u001b[0mprice\u001b[0m\u001b[0;34m,\u001b[0m \u001b[0mamount\u001b[0m\u001b[0;34m,\u001b[0m \u001b[0mstop\u001b[0m\u001b[0;34m=\u001b[0m\u001b[0;32mFalse\u001b[0m\u001b[0;34m,\u001b[0m \u001b[0modertype\u001b[0m\u001b[0;34m=\u001b[0m\u001b[0mOrderType\u001b[0m\u001b[0;34m.\u001b[0m\u001b[0mMARKET\u001b[0m\u001b[0;34m)\u001b[0m\u001b[0;34m:\u001b[0m\u001b[0;34m\u001b[0m\u001b[0;34m\u001b[0m\u001b[0m\n\u001b[0m\u001b[1;32m      6\u001b[0m     \u001b[0mbinance_http\u001b[0m \u001b[0;34m=\u001b[0m \u001b[0mBinanceFutureHttp\u001b[0m\u001b[0;34m(\u001b[0m\u001b[0mkey\u001b[0m\u001b[0;34m=\u001b[0m\u001b[0mkey\u001b[0m\u001b[0;34m,\u001b[0m \u001b[0msecret\u001b[0m\u001b[0;34m=\u001b[0m\u001b[0msecret\u001b[0m\u001b[0;34m)\u001b[0m\u001b[0;34m\u001b[0m\u001b[0;34m\u001b[0m\u001b[0m\n\u001b[1;32m      7\u001b[0m     \u001b[0msymbol\u001b[0m \u001b[0;34m=\u001b[0m \u001b[0;34m\"BELUSDT\"\u001b[0m\u001b[0;34m\u001b[0m\u001b[0;34m\u001b[0m\u001b[0m\n",
      "\u001b[0;31mNameError\u001b[0m: name 'OrderType' is not defined"
     ]
    }
   ],
   "source": [
    "from enum import Enum\n",
    "\n",
    "key = \"BIFqNMU6JgQIFVz0z038MOgkzREqUeQASS01Zbn2qggB5l1skGCASN4WB8gsV8UL\"\n",
    "secret = 'CU8VwvId3C93oqyYTmDQGhtfTaAs4hOnG6Dwp2uSqsx2i2fe9eWwvKpYVPVsiur1'\n",
    "def send_order(side: OrderSide, price, amount, stop=False, odertype=OrderType.MARKET):\n",
    "    binance_http = BinanceFutureHttp(key=key, secret=secret)\n",
    "    symbol = \"BELUSDT\"\n",
    "    if stop:\n",
    "        return binance_http.place_order(symbol=symbol, side=side, order_type=OrderType.STOP, quantity=amount, price=price, stop_price=price)\n",
    "    else:\n",
    "        return binance_http.place_order(symbol=symbol, side=side, order_type=OrderType.MARKET, quantity=amount, price=price)\n",
    "    \n"
   ]
  },
  {
   "cell_type": "code",
   "execution_count": 18,
   "id": "072a3428",
   "metadata": {},
   "outputs": [
    {
     "data": {
      "text/plain": [
       "{'code': -1106, 'msg': \"Parameter 'price' sent when not required.\"}"
      ]
     },
     "execution_count": 18,
     "metadata": {},
     "output_type": "execute_result"
    }
   ],
   "source": [
    "price = 0.1\n",
    "amount = 10\n",
    "stop = False\n",
    "odertype = OrderType.MARKET\n",
    "send_order(OrderSide.BUY, price, amount, stop, odertype)\n",
    "# send_order(\"BELUSDT\", OrderSide.BUY, 0, 2, False, OrderType.MARKET)"
   ]
  },
  {
   "cell_type": "code",
   "execution_count": null,
   "id": "db884a3d",
   "metadata": {},
   "outputs": [],
   "source": []
  },
  {
   "cell_type": "code",
   "execution_count": null,
   "id": "a8a53876",
   "metadata": {},
   "outputs": [],
   "source": []
  }
 ],
 "metadata": {
  "kernelspec": {
   "display_name": "Python 3",
   "language": "python",
   "name": "python3"
  },
  "language_info": {
   "codemirror_mode": {
    "name": "ipython",
    "version": 3
   },
   "file_extension": ".py",
   "mimetype": "text/x-python",
   "name": "python",
   "nbconvert_exporter": "python",
   "pygments_lexer": "ipython3",
   "version": "3.6.8"
  }
 },
 "nbformat": 4,
 "nbformat_minor": 5
}
